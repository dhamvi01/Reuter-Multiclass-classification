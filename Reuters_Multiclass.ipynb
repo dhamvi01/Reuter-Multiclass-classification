{
  "nbformat": 4,
  "nbformat_minor": 0,
  "metadata": {
    "colab": {
      "name": "Reuters Multiclass.ipynb",
      "provenance": [],
      "include_colab_link": true
    },
    "kernelspec": {
      "name": "python3",
      "display_name": "Python 3"
    }
  },
  "cells": [
    {
      "cell_type": "markdown",
      "metadata": {
        "id": "view-in-github",
        "colab_type": "text"
      },
      "source": [
        "<a href=\"https://colab.research.google.com/github/dhamvi01/Reuter-Multiclass-classification/blob/master/Reuters_Multiclass.ipynb\" target=\"_parent\"><img src=\"https://colab.research.google.com/assets/colab-badge.svg\" alt=\"Open In Colab\"/></a>"
      ]
    },
    {
      "cell_type": "code",
      "metadata": {
        "id": "aRAtsqsNqrJh",
        "colab_type": "code",
        "colab": {
          "base_uri": "https://localhost:8080/",
          "height": 113
        },
        "outputId": "e0f4db96-7c6e-4997-b62d-3a70a1a6a065"
      },
      "source": [
        "from keras.datasets import reuters\n",
        "(train_data, train_labels), (test_data, test_labels) = reuters.load_data(num_words=10000)"
      ],
      "execution_count": 1,
      "outputs": [
        {
          "output_type": "stream",
          "text": [
            "Using TensorFlow backend.\n"
          ],
          "name": "stderr"
        },
        {
          "output_type": "display_data",
          "data": {
            "text/html": [
              "<p style=\"color: red;\">\n",
              "The default version of TensorFlow in Colab will soon switch to TensorFlow 2.x.<br>\n",
              "We recommend you <a href=\"https://www.tensorflow.org/guide/migrate\" target=\"_blank\">upgrade</a> now \n",
              "or ensure your notebook will continue to use TensorFlow 1.x via the <code>%tensorflow_version 1.x</code> magic:\n",
              "<a href=\"https://colab.research.google.com/notebooks/tensorflow_version.ipynb\" target=\"_blank\">more info</a>.</p>\n"
            ],
            "text/plain": [
              "<IPython.core.display.HTML object>"
            ]
          },
          "metadata": {
            "tags": []
          }
        },
        {
          "output_type": "stream",
          "text": [
            "Downloading data from https://s3.amazonaws.com/text-datasets/reuters.npz\n",
            "2113536/2110848 [==============================] - 0s 0us/step\n"
          ],
          "name": "stdout"
        }
      ]
    },
    {
      "cell_type": "code",
      "metadata": {
        "id": "g5bmkENIrKRT",
        "colab_type": "code",
        "colab": {
          "base_uri": "https://localhost:8080/",
          "height": 34
        },
        "outputId": "f83bc685-d83f-45e3-e804-d1f2d59fcede"
      },
      "source": [
        "len(train_data)\n",
        "len(test_data)"
      ],
      "execution_count": 2,
      "outputs": [
        {
          "output_type": "execute_result",
          "data": {
            "text/plain": [
              "2246"
            ]
          },
          "metadata": {
            "tags": []
          },
          "execution_count": 2
        }
      ]
    },
    {
      "cell_type": "code",
      "metadata": {
        "id": "HZO5kf7grXo8",
        "colab_type": "code",
        "colab": {}
      },
      "source": [
        "#train_data[0]"
      ],
      "execution_count": 0,
      "outputs": []
    },
    {
      "cell_type": "code",
      "metadata": {
        "id": "D7g65ekIrae-",
        "colab_type": "code",
        "colab": {}
      },
      "source": [
        "import numpy as np\n",
        "def vs(ss,d=10000):\n",
        "  rs = np.zeros((len(ss),d))\n",
        "  for i,s in enumerate(ss):\n",
        "    rs[i, s] = 1\n",
        "  return rs"
      ],
      "execution_count": 0,
      "outputs": []
    },
    {
      "cell_type": "code",
      "metadata": {
        "id": "MP49drx9rvH2",
        "colab_type": "code",
        "colab": {}
      },
      "source": [
        "x_train = vs(train_data)\n",
        "x_test = vs(test_data)"
      ],
      "execution_count": 0,
      "outputs": []
    },
    {
      "cell_type": "code",
      "metadata": {
        "id": "gCE44999ryrs",
        "colab_type": "code",
        "colab": {}
      },
      "source": [
        "def to_one_hot(labels, d=46):\n",
        "  rs = np.zeros((len(labels), d))\n",
        "  for i, label in enumerate(labels):\n",
        "    rs[i,label] = 1.\n",
        "  return rs"
      ],
      "execution_count": 0,
      "outputs": []
    },
    {
      "cell_type": "code",
      "metadata": {
        "id": "E6D6zgVjsaQh",
        "colab_type": "code",
        "colab": {}
      },
      "source": [
        "one_hot_train_labels = to_one_hot(train_labels)\n",
        "one_hot_test_labels = to_one_hot(test_labels)"
      ],
      "execution_count": 0,
      "outputs": []
    },
    {
      "cell_type": "code",
      "metadata": {
        "id": "rbj2wlw8ssSD",
        "colab_type": "code",
        "colab": {}
      },
      "source": [
        "from keras import models\n",
        "from keras import layers"
      ],
      "execution_count": 0,
      "outputs": []
    },
    {
      "cell_type": "code",
      "metadata": {
        "id": "5L_Tvn5ktTWw",
        "colab_type": "code",
        "colab": {
          "base_uri": "https://localhost:8080/",
          "height": 138
        },
        "outputId": "174c9c94-1e6c-4682-dc3e-48f19e9c842d"
      },
      "source": [
        "model = models.Sequential()\n",
        "model.add(layers.Dense(64, activation='relu', input_shape=(10000,)))\n",
        "model.add(layers.Dense(64, activation='relu'))\n",
        "model.add(layers.Dense(46, activation='softmax'))"
      ],
      "execution_count": 11,
      "outputs": [
        {
          "output_type": "stream",
          "text": [
            "WARNING:tensorflow:From /usr/local/lib/python3.6/dist-packages/keras/backend/tensorflow_backend.py:66: The name tf.get_default_graph is deprecated. Please use tf.compat.v1.get_default_graph instead.\n",
            "\n",
            "WARNING:tensorflow:From /usr/local/lib/python3.6/dist-packages/keras/backend/tensorflow_backend.py:541: The name tf.placeholder is deprecated. Please use tf.compat.v1.placeholder instead.\n",
            "\n",
            "WARNING:tensorflow:From /usr/local/lib/python3.6/dist-packages/keras/backend/tensorflow_backend.py:4432: The name tf.random_uniform is deprecated. Please use tf.random.uniform instead.\n",
            "\n"
          ],
          "name": "stdout"
        }
      ]
    },
    {
      "cell_type": "code",
      "metadata": {
        "id": "O5sAACw3twZK",
        "colab_type": "code",
        "colab": {
          "base_uri": "https://localhost:8080/",
          "height": 104
        },
        "outputId": "752cb554-768f-4c83-f0ba-880224391020"
      },
      "source": [
        "model.compile(optimizer='rmsprop',\n",
        "              loss = 'categorical_crossentropy',\n",
        "              metrics=['accuracy'])"
      ],
      "execution_count": 12,
      "outputs": [
        {
          "output_type": "stream",
          "text": [
            "WARNING:tensorflow:From /usr/local/lib/python3.6/dist-packages/keras/optimizers.py:793: The name tf.train.Optimizer is deprecated. Please use tf.compat.v1.train.Optimizer instead.\n",
            "\n",
            "WARNING:tensorflow:From /usr/local/lib/python3.6/dist-packages/keras/backend/tensorflow_backend.py:3576: The name tf.log is deprecated. Please use tf.math.log instead.\n",
            "\n"
          ],
          "name": "stdout"
        }
      ]
    },
    {
      "cell_type": "code",
      "metadata": {
        "id": "m8635Wv-uaM3",
        "colab_type": "code",
        "colab": {}
      },
      "source": [
        "x_val = x_train[:1000]\n",
        "partial_x_train = x_train[1000:]"
      ],
      "execution_count": 0,
      "outputs": []
    },
    {
      "cell_type": "code",
      "metadata": {
        "id": "rbBBFe48uqGC",
        "colab_type": "code",
        "colab": {}
      },
      "source": [
        "y_val = one_hot_train_labels[:1000]\n",
        "partial_y_train = one_hot_train_labels[1000:]"
      ],
      "execution_count": 0,
      "outputs": []
    },
    {
      "cell_type": "code",
      "metadata": {
        "id": "KuuMd3q0uvY3",
        "colab_type": "code",
        "colab": {
          "base_uri": "https://localhost:8080/",
          "height": 894
        },
        "outputId": "66f073d8-f3f6-43f5-8087-65c1f00b86b9"
      },
      "source": [
        "history = model.fit(partial_x_train,\n",
        "                    partial_y_train,\n",
        "                    epochs=20,\n",
        "                    batch_size=512,\n",
        "                    validation_data = (x_val,y_val))"
      ],
      "execution_count": 19,
      "outputs": [
        {
          "output_type": "stream",
          "text": [
            "Train on 7982 samples, validate on 1000 samples\n",
            "Epoch 1/20\n",
            "WARNING:tensorflow:From /usr/local/lib/python3.6/dist-packages/keras/backend/tensorflow_backend.py:190: The name tf.get_default_session is deprecated. Please use tf.compat.v1.get_default_session instead.\n",
            "\n",
            "WARNING:tensorflow:From /usr/local/lib/python3.6/dist-packages/keras/backend/tensorflow_backend.py:197: The name tf.ConfigProto is deprecated. Please use tf.compat.v1.ConfigProto instead.\n",
            "\n",
            "WARNING:tensorflow:From /usr/local/lib/python3.6/dist-packages/keras/backend/tensorflow_backend.py:207: The name tf.global_variables is deprecated. Please use tf.compat.v1.global_variables instead.\n",
            "\n",
            "WARNING:tensorflow:From /usr/local/lib/python3.6/dist-packages/keras/backend/tensorflow_backend.py:216: The name tf.is_variable_initialized is deprecated. Please use tf.compat.v1.is_variable_initialized instead.\n",
            "\n",
            "WARNING:tensorflow:From /usr/local/lib/python3.6/dist-packages/keras/backend/tensorflow_backend.py:223: The name tf.variables_initializer is deprecated. Please use tf.compat.v1.variables_initializer instead.\n",
            "\n",
            "7982/7982 [==============================] - 2s 196us/step - loss: 2.5703 - acc: 0.4994 - val_loss: 1.7654 - val_acc: 0.6570\n",
            "Epoch 2/20\n",
            "7982/7982 [==============================] - 1s 117us/step - loss: 1.4245 - acc: 0.7101 - val_loss: 1.3070 - val_acc: 0.7000\n",
            "Epoch 3/20\n",
            "7982/7982 [==============================] - 1s 116us/step - loss: 1.0528 - acc: 0.7808 - val_loss: 1.1188 - val_acc: 0.7550\n",
            "Epoch 4/20\n",
            "7982/7982 [==============================] - 1s 117us/step - loss: 0.8285 - acc: 0.8251 - val_loss: 1.0376 - val_acc: 0.7760\n",
            "Epoch 5/20\n",
            "7982/7982 [==============================] - 1s 117us/step - loss: 0.6648 - acc: 0.8614 - val_loss: 0.9666 - val_acc: 0.7950\n",
            "Epoch 6/20\n",
            "7982/7982 [==============================] - 1s 115us/step - loss: 0.5354 - acc: 0.8913 - val_loss: 0.9342 - val_acc: 0.8130\n",
            "Epoch 7/20\n",
            "7982/7982 [==============================] - 1s 114us/step - loss: 0.4352 - acc: 0.9124 - val_loss: 0.8951 - val_acc: 0.8110\n",
            "Epoch 8/20\n",
            "7982/7982 [==============================] - 1s 119us/step - loss: 0.3575 - acc: 0.9250 - val_loss: 0.8922 - val_acc: 0.8120\n",
            "Epoch 9/20\n",
            "7982/7982 [==============================] - 1s 117us/step - loss: 0.2965 - acc: 0.9369 - val_loss: 0.9358 - val_acc: 0.7990\n",
            "Epoch 10/20\n",
            "7982/7982 [==============================] - 1s 116us/step - loss: 0.2505 - acc: 0.9430 - val_loss: 0.9325 - val_acc: 0.8050\n",
            "Epoch 11/20\n",
            "7982/7982 [==============================] - 1s 116us/step - loss: 0.2167 - acc: 0.9480 - val_loss: 0.9661 - val_acc: 0.7950\n",
            "Epoch 12/20\n",
            "7982/7982 [==============================] - 1s 116us/step - loss: 0.1926 - acc: 0.9499 - val_loss: 0.9489 - val_acc: 0.8110\n",
            "Epoch 13/20\n",
            "7982/7982 [==============================] - 1s 115us/step - loss: 0.1750 - acc: 0.9548 - val_loss: 0.9533 - val_acc: 0.8070\n",
            "Epoch 14/20\n",
            "7982/7982 [==============================] - 1s 115us/step - loss: 0.1598 - acc: 0.9550 - val_loss: 0.9462 - val_acc: 0.8110\n",
            "Epoch 15/20\n",
            "7982/7982 [==============================] - 1s 118us/step - loss: 0.1420 - acc: 0.9577 - val_loss: 0.9885 - val_acc: 0.8050\n",
            "Epoch 16/20\n",
            "7982/7982 [==============================] - 1s 115us/step - loss: 0.1398 - acc: 0.9549 - val_loss: 0.9995 - val_acc: 0.8150\n",
            "Epoch 17/20\n",
            "7982/7982 [==============================] - 1s 118us/step - loss: 0.1303 - acc: 0.9574 - val_loss: 1.0077 - val_acc: 0.8000\n",
            "Epoch 18/20\n",
            "7982/7982 [==============================] - 1s 116us/step - loss: 0.1260 - acc: 0.9570 - val_loss: 1.0409 - val_acc: 0.8010\n",
            "Epoch 19/20\n",
            "7982/7982 [==============================] - 1s 118us/step - loss: 0.1222 - acc: 0.9562 - val_loss: 1.0100 - val_acc: 0.8150\n",
            "Epoch 20/20\n",
            "7982/7982 [==============================] - 1s 115us/step - loss: 0.1169 - acc: 0.9559 - val_loss: 1.1579 - val_acc: 0.7900\n"
          ],
          "name": "stdout"
        }
      ]
    },
    {
      "cell_type": "code",
      "metadata": {
        "id": "bh9g_D5avIrR",
        "colab_type": "code",
        "colab": {
          "base_uri": "https://localhost:8080/",
          "height": 295
        },
        "outputId": "ced0c666-a841-4c7f-c53e-4c565bbe88e1"
      },
      "source": [
        "import matplotlib.pyplot as plt\n",
        "loss =  history.history['loss']\n",
        "val_loss = history.history['val_loss']\n",
        "epochs = range(1,len(loss) + 1)\n",
        "\n",
        "plt.plot(epochs, loss, 'bo', label='Training loss')\n",
        "plt.plot(epochs, val_loss, 'b', label='Training loss')\n",
        "plt.title('Training and validation loss')\n",
        "plt.xlabel('Epochs')\n",
        "plt.ylabel('Loss')\n",
        "plt.legend()\n",
        "plt.show()"
      ],
      "execution_count": 24,
      "outputs": [
        {
          "output_type": "display_data",
          "data": {
            "image/png": "[encoded data removed]",
            "text/plain": [
              "<Figure size 432x288 with 1 Axes>"
            ]
          },
          "metadata": {
            "tags": []
          }
        }
      ]
    },
    {
      "cell_type": "code",
      "metadata": {
        "id": "8rkaLD6Hv4-z",
        "colab_type": "code",
        "colab": {
          "base_uri": "https://localhost:8080/",
          "height": 295
        },
        "outputId": "84c57561-15d7-4ae1-e48c-f18eab81b77d"
      },
      "source": [
        "acc =  history.history['acc']\n",
        "val_acc = history.history['val_acc']\n",
        "epochs = range(1,len(loss) + 1)\n",
        "\n",
        "plt.plot(epochs, acc, 'bo', label='Training Acc')\n",
        "plt.plot(epochs, val_acc, 'b', label='Training Acc')\n",
        "plt.title('Training and validation Accuracy')\n",
        "plt.xlabel('Epochs')\n",
        "plt.ylabel('acc')\n",
        "plt.legend()\n",
        "plt.show()"
      ],
      "execution_count": 27,
      "outputs": [
        {
          "output_type": "display_data",
          "data": {
            "image/png": "[encoded data removed]",
            "text/plain": [
              "<Figure size 432x288 with 1 Axes>"
            ]
          },
          "metadata": {
            "tags": []
          }
        }
      ]
    },
    {
      "cell_type": "code",
      "metadata": {
        "id": "OlrAJmbZwswV",
        "colab_type": "code",
        "colab": {
          "base_uri": "https://localhost:8080/",
          "height": 353
        },
        "outputId": "7dc008cb-e5e1-499b-859b-4196768d2a25"
      },
      "source": [
        "model.fit(partial_x_train,\n",
        "          partial_y_train,\n",
        "          epochs=9,\n",
        "          batch_size=512,\n",
        "          validation_data = (x_val,y_val))"
      ],
      "execution_count": 29,
      "outputs": [
        {
          "output_type": "stream",
          "text": [
            "Train on 7982 samples, validate on 1000 samples\n",
            "Epoch 1/9\n",
            "7982/7982 [==============================] - 1s 120us/step - loss: 0.0963 - acc: 0.9589 - val_loss: 1.2848 - val_acc: 0.7850\n",
            "Epoch 2/9\n",
            "7982/7982 [==============================] - 1s 119us/step - loss: 0.0970 - acc: 0.9587 - val_loss: 1.3578 - val_acc: 0.7760\n",
            "Epoch 3/9\n",
            "7982/7982 [==============================] - 1s 119us/step - loss: 0.0916 - acc: 0.9584 - val_loss: 1.3415 - val_acc: 0.7840\n",
            "Epoch 4/9\n",
            "7982/7982 [==============================] - 1s 120us/step - loss: 0.0974 - acc: 0.9599 - val_loss: 1.2612 - val_acc: 0.7920\n",
            "Epoch 5/9\n",
            "7982/7982 [==============================] - 1s 123us/step - loss: 0.0873 - acc: 0.9594 - val_loss: 1.4120 - val_acc: 0.7810\n",
            "Epoch 6/9\n",
            "7982/7982 [==============================] - 1s 122us/step - loss: 0.0951 - acc: 0.9582 - val_loss: 1.3239 - val_acc: 0.7840\n",
            "Epoch 7/9\n",
            "7982/7982 [==============================] - 1s 120us/step - loss: 0.0912 - acc: 0.9588 - val_loss: 1.4525 - val_acc: 0.7720\n",
            "Epoch 8/9\n",
            "7982/7982 [==============================] - 1s 121us/step - loss: 0.0913 - acc: 0.9599 - val_loss: 1.3237 - val_acc: 0.7840\n",
            "Epoch 9/9\n",
            "7982/7982 [==============================] - 1s 120us/step - loss: 0.0945 - acc: 0.9600 - val_loss: 1.3255 - val_acc: 0.7850\n"
          ],
          "name": "stdout"
        },
        {
          "output_type": "execute_result",
          "data": {
            "text/plain": [
              "<keras.callbacks.History at 0x7f17966ebcc0>"
            ]
          },
          "metadata": {
            "tags": []
          },
          "execution_count": 29
        }
      ]
    },
    {
      "cell_type": "code",
      "metadata": {
        "id": "yNEQutmmxScF",
        "colab_type": "code",
        "colab": {
          "base_uri": "https://localhost:8080/",
          "height": 34
        },
        "outputId": "df10f3fa-d822-4d09-fef3-bbae880a4880"
      },
      "source": [
        "result = model.evaluate(x_test, one_hot_test_labels)"
      ],
      "execution_count": 30,
      "outputs": [
        {
          "output_type": "stream",
          "text": [
            "2246/2246 [==============================] - 0s 90us/step\n"
          ],
          "name": "stdout"
        }
      ]
    },
    {
      "cell_type": "code",
      "metadata": {
        "id": "GJbNdjS-xukx",
        "colab_type": "code",
        "colab": {
          "base_uri": "https://localhost:8080/",
          "height": 34
        },
        "outputId": "88dd5dcf-1157-4f1d-f127-ef4bad604529"
      },
      "source": [
        "result"
      ],
      "execution_count": 31,
      "outputs": [
        {
          "output_type": "execute_result",
          "data": {
            "text/plain": [
              "[1.5255568178232928, 0.7769367764915405]"
            ]
          },
          "metadata": {
            "tags": []
          },
          "execution_count": 31
        }
      ]
    },
    {
      "cell_type": "markdown",
      "metadata": {
        "id": "uPBQJlfvyxF9",
        "colab_type": "text"
      },
      "source": [
        "### Make prediction for 46 classes"
      ]
    },
    {
      "cell_type": "code",
      "metadata": {
        "id": "dm5HBdf9xw7K",
        "colab_type": "code",
        "colab": {
          "base_uri": "https://localhost:8080/",
          "height": 34
        },
        "outputId": "95e6c938-bbf3-414f-b3fe-52646e29c2f8"
      },
      "source": [
        "predictions = model.predict(x_test)\n",
        "predictions[0].shape"
      ],
      "execution_count": 34,
      "outputs": [
        {
          "output_type": "execute_result",
          "data": {
            "text/plain": [
              "(46,)"
            ]
          },
          "metadata": {
            "tags": []
          },
          "execution_count": 34
        }
      ]
    },
    {
      "cell_type": "markdown",
      "metadata": {
        "id": "h5PnzjlYyrcV",
        "colab_type": "text"
      },
      "source": [
        "### Maximum probablity for the class"
      ]
    },
    {
      "cell_type": "code",
      "metadata": {
        "id": "j8luZLWsyFIO",
        "colab_type": "code",
        "colab": {
          "base_uri": "https://localhost:8080/",
          "height": 34
        },
        "outputId": "91d4e24f-23bf-48e7-e866-737e0a0f3f48"
      },
      "source": [
        "np.argmax(predictions[0])"
      ],
      "execution_count": 35,
      "outputs": [
        {
          "output_type": "execute_result",
          "data": {
            "text/plain": [
              "3"
            ]
          },
          "metadata": {
            "tags": []
          },
          "execution_count": 35
        }
      ]
    },
    {
      "cell_type": "markdown",
      "metadata": {
        "id": "tO_EkQccyiaQ",
        "colab_type": "text"
      },
      "source": [
        "### Sum of probablitis for 46 class"
      ]
    },
    {
      "cell_type": "code",
      "metadata": {
        "id": "-t25JYnYyIgs",
        "colab_type": "code",
        "colab": {
          "base_uri": "https://localhost:8080/",
          "height": 34
        },
        "outputId": "5bda23d6-f65a-4c1f-83d8-5c39c0be9169"
      },
      "source": [
        "int(np.sum(predictions[0]))"
      ],
      "execution_count": 37,
      "outputs": [
        {
          "output_type": "execute_result",
          "data": {
            "text/plain": [
              "1"
            ]
          },
          "metadata": {
            "tags": []
          },
          "execution_count": 37
        }
      ]
    },
    {
      "cell_type": "code",
      "metadata": {
        "id": "zg_qnPVLyZFQ",
        "colab_type": "code",
        "colab": {}
      },
      "source": [
        ""
      ],
      "execution_count": 0,
      "outputs": []
    }
  ]
}